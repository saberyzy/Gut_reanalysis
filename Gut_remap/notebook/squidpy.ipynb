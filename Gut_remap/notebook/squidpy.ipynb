{
 "cells": [
  {
   "cell_type": "code",
   "execution_count": 1,
   "id": "e3cda52c",
   "metadata": {},
   "outputs": [],
   "source": [
    "#explore squidpy\n",
    "import scanpy as sc #for scanpy >= 1.3.7\n",
    "import anndata as ann\n",
    "import numpy as np\n",
    "import scipy as sp\n",
    "import pandas as pd\n",
    "import matplotlib.pyplot as plt\n",
    "from matplotlib import rcParams\n",
    "from matplotlib import colors\n",
    "import seaborn as sb\n",
    "import logging\n",
    "import os\n",
    "import glob\n",
    "import matplotlib\n",
    "import math\n",
    "import squidpy as sq"
   ]
  },
  {
   "cell_type": "code",
   "execution_count": 2,
   "id": "c3b8e6c0",
   "metadata": {},
   "outputs": [],
   "source": [
    "adata_savepath = '/domino/edv/id-td-virology/Zhiyuan/public/Gut_remap/processed_data/cellphonedb_t.h5ad'\n",
    "adata_t = sc.read_h5ad(adata_savepath)"
   ]
  },
  {
   "cell_type": "code",
   "execution_count": null,
   "id": "cc82ae4a",
   "metadata": {},
   "outputs": [
    {
     "data": {
      "application/vnd.jupyter.widget-view+json": {
       "model_id": "1617b3265725423f9229104abb9527b1",
       "version_major": 2,
       "version_minor": 0
      },
      "text/plain": [
       "0.00B [00:00, ?B/s]"
      ]
     },
     "metadata": {},
     "output_type": "display_data"
    },
    {
     "data": {
      "application/vnd.jupyter.widget-view+json": {
       "model_id": "ba9790d6fc7f4c3d8c9a681be2b43aca",
       "version_major": 2,
       "version_minor": 0
      },
      "text/plain": [
       "0.00B [00:00, ?B/s]"
      ]
     },
     "metadata": {},
     "output_type": "display_data"
    },
    {
     "data": {
      "application/vnd.jupyter.widget-view+json": {
       "model_id": "507c54d30cf7446484cbb2040333c8a1",
       "version_major": 2,
       "version_minor": 0
      },
      "text/plain": [
       "0.00B [00:00, ?B/s]"
      ]
     },
     "metadata": {},
     "output_type": "display_data"
    },
    {
     "name": "stderr",
     "output_type": "stream",
     "text": [
      "/home/ubuntu/.local/lib/python3.8/site-packages/squidpy/gr/_ligrec.py:374: PerformanceWarning: DataFrame is highly fragmented.  This is usually the result of calling `frame.insert` many times, which has poor performance.  Consider joining all columns at once using pd.concat(axis=1) instead.  To get a de-fragmented frame, use `newframe = frame.copy()`\n",
      "  self._filtered_data[\"clusters\"] = self._adata.obs.copy()[cluster_key].astype(\"string\").astype(\"category\").values\n"
     ]
    },
    {
     "data": {
      "application/vnd.jupyter.widget-view+json": {
       "model_id": "9e38d24f17c7450d8682dd899685b17d",
       "version_major": 2,
       "version_minor": 0
      },
      "text/plain": [
       "  0%|          | 0/1000 [00:00<?, ?permutation/s]"
      ]
     },
     "metadata": {},
     "output_type": "display_data"
    }
   ],
   "source": [
    "res = sq.gr.ligrec(\n",
    "    adata_t,\n",
    "    n_perms=1000,\n",
    "    cluster_key=\"subtype\",\n",
    "    copy=True,\n",
    "    use_raw=False,\n",
    "    transmitter_params={\"categories\": \"ligand\"},\n",
    "    receiver_params={\"categories\": \"receptor\"},\n",
    "    interactions_params={'resources': 'CellPhoneDB'},\n",
    "    threshold=0.1\n",
    ")"
   ]
  },
  {
   "cell_type": "code",
   "execution_count": null,
   "id": "10b457b3",
   "metadata": {},
   "outputs": [],
   "source": []
  }
 ],
 "metadata": {
  "kernelspec": {
   "display_name": "Python 3 (ipykernel)",
   "language": "python",
   "name": "python3"
  },
  "language_info": {
   "codemirror_mode": {
    "name": "ipython",
    "version": 3
   },
   "file_extension": ".py",
   "mimetype": "text/x-python",
   "name": "python",
   "nbconvert_exporter": "python",
   "pygments_lexer": "ipython3",
   "version": "3.8.12"
  }
 },
 "nbformat": 4,
 "nbformat_minor": 5
}
