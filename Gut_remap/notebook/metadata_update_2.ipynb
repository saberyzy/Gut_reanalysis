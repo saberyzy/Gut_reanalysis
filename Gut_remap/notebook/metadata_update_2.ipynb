{
 "cells": [
  {
   "cell_type": "code",
   "execution_count": 1,
   "id": "b369dbd1",
   "metadata": {},
   "outputs": [],
   "source": [
    "#update the metadata info\n",
    "import scanpy as sc #for scanpy >= 1.3.7\n",
    "import anndata as ann\n",
    "import numpy as np\n",
    "import scipy as sp\n",
    "import pandas as pd\n",
    "import matplotlib.pyplot as plt\n",
    "from matplotlib import rcParams\n",
    "from matplotlib import colors\n",
    "import seaborn as sb\n",
    "import logging\n",
    "import os\n",
    "import glob\n",
    "import matplotlib\n",
    "import math"
   ]
  },
  {
   "cell_type": "code",
   "execution_count": 2,
   "id": "ed47771d",
   "metadata": {},
   "outputs": [],
   "source": [
    "adata_savepath = '/domino/edv/id-td-virology/Zhiyuan/public/Gut_remap/processed_data/annotated.h5ad'\n",
    "adata= sc.read_h5ad(adata_savepath)"
   ]
  },
  {
   "cell_type": "code",
   "execution_count": 3,
   "id": "743dcbff",
   "metadata": {},
   "outputs": [],
   "source": [
    "savepath = '/domino/edv/id-td-virology/Zhiyuan/public/Gut_remap/processed_data/CD4.h5ad'\n",
    "adata_CD4 = sc.read_h5ad(savepath)\n",
    "savepath = '/domino/edv/id-td-virology/Zhiyuan/public/Gut_remap/processed_data/CD8.h5ad'\n",
    "adata_CD8 = sc.read_h5ad(savepath)"
   ]
  },
  {
   "cell_type": "code",
   "execution_count": 4,
   "id": "2d661f24",
   "metadata": {},
   "outputs": [],
   "source": [
    "\n",
    "df = adata.obs.copy()\n",
    "df['subtype'] = df['FinalAnnotation'].astype('object')\n",
    "df.loc[adata_CD4.obs.index, 'subtype'] = adata_CD4.obs.loc[:,'subtype'].astype('object')\n",
    "df.loc[adata_CD8.obs.index, 'subtype'] = adata_CD8.obs.loc[:,'subtype'].astype('object')"
   ]
  },
  {
   "cell_type": "code",
   "execution_count": 5,
   "id": "1f89ef20",
   "metadata": {},
   "outputs": [
    {
     "data": {
      "text/plain": [
       "subtype\n",
       "Activated B               2472\n",
       "CD4+ Naive/cm            26404\n",
       "CD4+ Th1_like             9353\n",
       "CD4+ Treg CTLA4++         2597\n",
       "CD4+ Treg SELL++          2289\n",
       "CD4+ intermediate        23875\n",
       "CD8+ MAIT                17091\n",
       "CD8+ Naive                9585\n",
       "CD8+ Tcm                  2196\n",
       "CD8+ Tem                 38377\n",
       "CD8+ Temra/Teff          24518\n",
       "CD8+ Tex                  5045\n",
       "DN-Tcell                   529\n",
       "Doublets                 15206\n",
       "KupfferCell                178\n",
       "LSEC                       653\n",
       "Macrophage                 992\n",
       "Memory B                  9673\n",
       "MonocytesClassical       20409\n",
       "MonocytesNonClassical     3400\n",
       "NK                       33361\n",
       "NK-Resident              12688\n",
       "Naive B                  12362\n",
       "Plasma                    1627\n",
       "Platelets                 1833\n",
       "Proliferating             2365\n",
       "cDC1                      1212\n",
       "cDC2                      1544\n",
       "gdT                       6283\n",
       "pDC                        647\n",
       "unknown                   4796\n",
       "dtype: int64"
      ]
     },
     "execution_count": 5,
     "metadata": {},
     "output_type": "execute_result"
    }
   ],
   "source": [
    "df.groupby('subtype').size()"
   ]
  },
  {
   "cell_type": "code",
   "execution_count": 9,
   "id": "31828b8f",
   "metadata": {},
   "outputs": [],
   "source": [
    "#change subtype names\n",
    "df.loc[df.subtype == 'CD4+ Naive/cm', 'subtype'] = 'CD4+ T Naïve/Central Memory'\n",
    "df.loc[df.subtype == 'CD4+ Th1_like', 'subtype'] = 'CD4+ T Effector'\n",
    "df.loc[df.subtype == 'CD4+ Treg CTLA4++', 'subtype'] = 'CD4+ Resident Treg'\n",
    "df.loc[df.subtype == 'CD4+ Treg SELL++', 'subtype'] = 'CD4+ Circulating Treg'\n",
    "df.loc[df.subtype == 'CD4+ intermediate', 'subtype'] = 'CD4+ T Effector Memory'\n",
    "df.loc[df.subtype == 'CD8+ Naive', 'subtype'] = 'CD8+ T Naïve'\n",
    "df.loc[df.subtype == 'CD8+ Tcm', 'subtype'] = 'CD8+ T Central Memory'\n",
    "df.loc[df.subtype == 'CD8+ Tem', 'subtype'] = 'CD8+ T Effector Memory'\n",
    "df.loc[df.subtype == 'CD8+ Tem', 'subtype'] = 'CD8+ T Effector Memory'\n",
    "df.loc[df.subtype == 'CD8+ Temra/Teff', 'subtype'] = 'CD8+ T Effctor'\n",
    "df.loc[df.subtype == 'CD8+ Tex', 'subtype'] = 'CD8+ T Exhausted'\n",
    "\n",
    "df.loc[df.subtype == 'Naive B', 'subtype'] = 'B Naïve'\n",
    "df.loc[df.subtype == 'Memory B', 'subtype'] = 'B Memory'\n",
    "df.loc[df.subtype == 'Activated B', 'subtype'] = 'B Activated'\n",
    "\n",
    "\n"
   ]
  },
  {
   "cell_type": "code",
   "execution_count": 17,
   "id": "dde99405",
   "metadata": {},
   "outputs": [
    {
     "data": {
      "text/plain": [
       "SecondAnnotation  subtype                    \n",
       "CD8+              CD8+ MAIT                      16929\n",
       "                  CD8+ T Central Memory            341\n",
       "                  CD8+ T Effctor                  8979\n",
       "                  CD8+ T Effector Memory         34929\n",
       "                  CD8+ T Exhausted                5043\n",
       "                  CD8+ T Naïve                    9089\n",
       "NK                NK                             33361\n",
       "                  NK-Resident                    12688\n",
       "Doublets          Doublets                       15206\n",
       "CD3+              DN-Tcell                         529\n",
       "                  gdT                             6283\n",
       "CD4+              CD4+ Circulating Treg           2289\n",
       "                  CD4+ Resident Treg              2597\n",
       "                  CD4+ T Effector                 9353\n",
       "                  CD4+ T Effector Memory         23875\n",
       "                  CD4+ T Naive/Central memory    26404\n",
       "                  CD8+ MAIT                        162\n",
       "                  CD8+ T Central Memory           1855\n",
       "                  CD8+ T Effctor                 15539\n",
       "                  CD8+ T Effector Memory          3448\n",
       "                  CD8+ T Exhausted                   2\n",
       "                  CD8+ T Naïve                     496\n",
       "Proliferating     Proliferating                   2365\n",
       "Macrophage        KupfferCell                      178\n",
       "                  Macrophage                       992\n",
       "B-cell            B Activated                     2472\n",
       "                  B Memory                        9673\n",
       "                  B Naïve                        12362\n",
       "unknown           unknown                         4796\n",
       "Plasma            Plasma                          1627\n",
       "DC                cDC1                            1212\n",
       "                  cDC2                            1544\n",
       "                  pDC                              647\n",
       "LSECs             LSEC                             653\n",
       "Monocyte          MonocytesClassical             20409\n",
       "                  MonocytesNonClassical           3400\n",
       "Platelets         Platelets                       1833\n",
       "dtype: int64"
      ]
     },
     "execution_count": 17,
     "metadata": {},
     "output_type": "execute_result"
    }
   ],
   "source": [
    "df.groupby(['SecondAnnotation', 'subtype'], observed = True).size()"
   ]
  },
  {
   "cell_type": "code",
   "execution_count": 18,
   "id": "cca772ec",
   "metadata": {},
   "outputs": [],
   "source": [
    "test = df.loc[(df.SecondAnnotation == 'CD4+')].copy()\n",
    "\n",
    "ind = [x for x in test.index if test.loc[x,'subtype'].startswith('CD8+')]"
   ]
  },
  {
   "cell_type": "code",
   "execution_count": 21,
   "id": "0c82f815",
   "metadata": {},
   "outputs": [],
   "source": [
    "df.loc[ind, 'SecondAnnotation'] = 'CD8+'"
   ]
  },
  {
   "cell_type": "code",
   "execution_count": 22,
   "id": "a6459884",
   "metadata": {},
   "outputs": [
    {
     "data": {
      "text/plain": [
       "SecondAnnotation  subtype                    \n",
       "CD8+              CD8+ MAIT                      17091\n",
       "                  CD8+ T Central Memory           2196\n",
       "                  CD8+ T Effctor                 24518\n",
       "                  CD8+ T Effector Memory         38377\n",
       "                  CD8+ T Exhausted                5045\n",
       "                  CD8+ T Naïve                    9585\n",
       "NK                NK                             33361\n",
       "                  NK-Resident                    12688\n",
       "Doublets          Doublets                       15206\n",
       "CD3+              DN-Tcell                         529\n",
       "                  gdT                             6283\n",
       "CD4+              CD4+ Circulating Treg           2289\n",
       "                  CD4+ Resident Treg              2597\n",
       "                  CD4+ T Effector                 9353\n",
       "                  CD4+ T Effector Memory         23875\n",
       "                  CD4+ T Naive/Central memory    26404\n",
       "Proliferating     Proliferating                   2365\n",
       "Macrophage        KupfferCell                      178\n",
       "                  Macrophage                       992\n",
       "B-cell            B Activated                     2472\n",
       "                  B Memory                        9673\n",
       "                  B Naïve                        12362\n",
       "unknown           unknown                         4796\n",
       "Plasma            Plasma                          1627\n",
       "DC                cDC1                            1212\n",
       "                  cDC2                            1544\n",
       "                  pDC                              647\n",
       "LSECs             LSEC                             653\n",
       "Monocyte          MonocytesClassical             20409\n",
       "                  MonocytesNonClassical           3400\n",
       "Platelets         Platelets                       1833\n",
       "dtype: int64"
      ]
     },
     "execution_count": 22,
     "metadata": {},
     "output_type": "execute_result"
    }
   ],
   "source": [
    "df.groupby(['SecondAnnotation', 'subtype'], observed = True).size()"
   ]
  },
  {
   "cell_type": "code",
   "execution_count": 23,
   "id": "77a167c9",
   "metadata": {},
   "outputs": [],
   "source": [
    "adata.obs.loc[df.index, 'subtype_final'] = df.loc[:,'subtype']\n",
    "adata.obs.loc[df.index, 'SecondAnnotation'] = df.loc[:,'SecondAnnotation']"
   ]
  },
  {
   "cell_type": "code",
   "execution_count": 26,
   "id": "e5b369f3",
   "metadata": {},
   "outputs": [],
   "source": [
    "#save the updated h5ad adata\n",
    "path = '/domino/edv/id-td-virology/Zhiyuan/public/Gut_remap/processed_data/annotated_final.h5ad'\n",
    "adata.write(path)"
   ]
  },
  {
   "cell_type": "code",
   "execution_count": 32,
   "id": "a584087f",
   "metadata": {},
   "outputs": [],
   "source": [
    "#save metadata for Nadia\n",
    "df_2 = adata.obs[['cell_quality','SecondAnnotation', 'subtype_final']].copy()"
   ]
  },
  {
   "cell_type": "code",
   "execution_count": 33,
   "id": "bf1915d8",
   "metadata": {},
   "outputs": [
    {
     "data": {
      "text/plain": [
       "cell_quality  SecondAnnotation  subtype_final              \n",
       "high          CD8+              CD8+ T Effector Memory         38377\n",
       "                                CD8+ MAIT                      17091\n",
       "                                CD8+ T Effctor                 24518\n",
       "                                CD8+ T Exhausted                5045\n",
       "                                CD8+ T Central Memory           2196\n",
       "                                CD8+ T Naïve                    9585\n",
       "              NK                NK                             33361\n",
       "                                NK-Resident                    12688\n",
       "              Doublets          Doublets                       15206\n",
       "              CD3+              gdT                             6283\n",
       "                                DN-Tcell                         529\n",
       "              CD4+              CD4+ T Effector Memory         23875\n",
       "                                CD4+ T Effector                 9353\n",
       "                                CD4+ Resident Treg              2597\n",
       "                                CD4+ Circulating Treg           2289\n",
       "                                CD4+ T Naive/Central memory    26404\n",
       "              Proliferating     Proliferating                   2365\n",
       "              Macrophage        KupfferCell                      178\n",
       "                                Macrophage                       992\n",
       "              B-cell            B Activated                     2472\n",
       "                                B Memory                        9673\n",
       "                                B Naïve                        12362\n",
       "              Plasma            Plasma                          1627\n",
       "              DC                cDC1                            1212\n",
       "                                pDC                              647\n",
       "                                cDC2                            1544\n",
       "              LSECs             LSEC                             653\n",
       "              Monocyte          MonocytesClassical             20409\n",
       "                                MonocytesNonClassical           3400\n",
       "              Platelets         Platelets                       1833\n",
       "low           unknown           unknown                         4796\n",
       "dtype: int64"
      ]
     },
     "execution_count": 33,
     "metadata": {},
     "output_type": "execute_result"
    }
   ],
   "source": [
    "df_2.groupby(['cell_quality','SecondAnnotation', 'subtype_final'], observed = True).size()"
   ]
  },
  {
   "cell_type": "code",
   "execution_count": 34,
   "id": "e258c589",
   "metadata": {},
   "outputs": [],
   "source": [
    "savepath = '/domino/edv/id-td-virology/Public_dataset/2022_Gut/for_Nadia/Final_Annotation_20220927.tsv'\n",
    "df_2.to_csv(savepath, sep = '\\t')"
   ]
  },
  {
   "cell_type": "code",
   "execution_count": null,
   "id": "592f41ac",
   "metadata": {},
   "outputs": [],
   "source": []
  }
 ],
 "metadata": {
  "kernelspec": {
   "display_name": "Python 3 (ipykernel)",
   "language": "python",
   "name": "python3"
  },
  "language_info": {
   "codemirror_mode": {
    "name": "ipython",
    "version": 3
   },
   "file_extension": ".py",
   "mimetype": "text/x-python",
   "name": "python",
   "nbconvert_exporter": "python",
   "pygments_lexer": "ipython3",
   "version": "3.8.12"
  }
 },
 "nbformat": 4,
 "nbformat_minor": 5
}
